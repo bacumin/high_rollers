{
 "cells": [
  {
   "cell_type": "markdown",
   "metadata": {},
   "source": [
    "My last notebook was running Python 3.6, but H2O isn't compatible with anything above 3.5. I created a virtual env with python 3.5 and H2O/H2O-py installed, and switched to this notebook to make that distinction clear."
   ]
  },
  {
   "cell_type": "code",
   "execution_count": 2,
   "metadata": {
    "collapsed": true
   },
   "outputs": [],
   "source": [
    "import h2o"
   ]
  },
  {
   "cell_type": "code",
   "execution_count": 4,
   "metadata": {},
   "outputs": [
    {
     "name": "stdout",
     "output_type": "stream",
     "text": [
      "Checking whether there is an H2O instance running at http://localhost:9992..... not found.\n",
      "Attempting to start a local H2O server...\n",
      "; OpenJDK 64-Bit Server VM (Zulu 8.20.0.5-win64) (build 25.121-b15, mixed mode)\n",
      "  Starting server from C:\\Users\\Baptiste\\Anaconda3\\envs\\py35\\h2o_jar\\h2o.jar\n",
      "  Ice root: C:\\Users\\Baptiste\\AppData\\Local\\Temp\\tmpo7uk7bi_\n",
      "  JVM stdout: C:\\Users\\Baptiste\\AppData\\Local\\Temp\\tmpo7uk7bi_\\h2o_Baptiste_started_from_python.out\n",
      "  JVM stderr: C:\\Users\\Baptiste\\AppData\\Local\\Temp\\tmpo7uk7bi_\\h2o_Baptiste_started_from_python.err\n",
      "  Server is running at http://127.0.0.1:9992\n",
      "Connecting to H2O server at http://127.0.0.1:9992... successful.\n",
      "Warning: Your H2O cluster version is too old (10 months and 9 days)! Please download and install the latest version from http://h2o.ai/download/\n"
     ]
    },
    {
     "data": {
      "text/html": [
       "<div style=\"overflow:auto\"><table style=\"width:50%\"><tr><td>H2O cluster uptime:</td>\n",
       "<td>03 secs</td></tr>\n",
       "<tr><td>H2O cluster version:</td>\n",
       "<td>3.10.0.9</td></tr>\n",
       "<tr><td>H2O cluster version age:</td>\n",
       "<td>10 months and 9 days !!!</td></tr>\n",
       "<tr><td>H2O cluster name:</td>\n",
       "<td>H2O_from_python_Baptiste_fpd1lw</td></tr>\n",
       "<tr><td>H2O cluster total nodes:</td>\n",
       "<td>1</td></tr>\n",
       "<tr><td>H2O cluster free memory:</td>\n",
       "<td>1.757 Gb</td></tr>\n",
       "<tr><td>H2O cluster total cores:</td>\n",
       "<td>4</td></tr>\n",
       "<tr><td>H2O cluster allowed cores:</td>\n",
       "<td>4</td></tr>\n",
       "<tr><td>H2O cluster status:</td>\n",
       "<td>accepting new members, healthy</td></tr>\n",
       "<tr><td>H2O connection url:</td>\n",
       "<td>http://127.0.0.1:9992</td></tr>\n",
       "<tr><td>H2O connection proxy:</td>\n",
       "<td>None</td></tr>\n",
       "<tr><td>Python version:</td>\n",
       "<td>3.5.4 final</td></tr></table></div>"
      ],
      "text/plain": [
       "--------------------------  -------------------------------\n",
       "H2O cluster uptime:         03 secs\n",
       "H2O cluster version:        3.10.0.9\n",
       "H2O cluster version age:    10 months and 9 days !!!\n",
       "H2O cluster name:           H2O_from_python_Baptiste_fpd1lw\n",
       "H2O cluster total nodes:    1\n",
       "H2O cluster free memory:    1.757 Gb\n",
       "H2O cluster total cores:    4\n",
       "H2O cluster allowed cores:  4\n",
       "H2O cluster status:         accepting new members, healthy\n",
       "H2O connection url:         http://127.0.0.1:9992\n",
       "H2O connection proxy:\n",
       "Python version:             3.5.4 final\n",
       "--------------------------  -------------------------------"
      ]
     },
     "metadata": {},
     "output_type": "display_data"
    }
   ],
   "source": [
    "h2o.init(port=9992)"
   ]
  },
  {
   "cell_type": "code",
   "execution_count": 18,
   "metadata": {},
   "outputs": [
    {
     "name": "stdout",
     "output_type": "stream",
     "text": [
      "Parse progress: |█████████████████████████████████████████████████████████| 100%\n",
      "Parse progress: |█████████████████████████████████████████████████████████| 100%\n"
     ]
    }
   ],
   "source": [
    "h2o_train_df = h2o.import_file('./train_dataset.csv')\n",
    "h2O_test_df = h2o.import_file('./test_dataset.csv')"
   ]
  },
  {
   "cell_type": "code",
   "execution_count": 15,
   "metadata": {
    "collapsed": true
   },
   "outputs": [],
   "source": [
    "cat_feat=['class', 'edu', 'marital', 'race', 'sex', 'fam_pres',\n",
    "          'full_part_time', 'tax_filer', 'detailed_fam', 'detailed_house',\n",
    "         'mig_code_msa', 'country_m','enterp', 'child', 'capital', 'ind_code', 'oc_code']\n",
    "cont_feat=['age', 'wage', 'cap_gains', 'cap_losses', 'dividends', 'employer', 'weeks_w']\n",
    "predict=['inc_bin']"
   ]
  },
  {
   "cell_type": "code",
   "execution_count": 20,
   "metadata": {},
   "outputs": [],
   "source": [
    "for cat_col in cat_feat:\n",
    "    h2o_train_df[cat_col]=h2o_train_df[cat_col].asfactor()\n",
    "    h2O_test_df[cat_col]=h2O_test_df[cat_col].asfactor()"
   ]
  },
  {
   "cell_type": "code",
   "execution_count": null,
   "metadata": {
    "collapsed": true
   },
   "outputs": [],
   "source": [
    "from h2o.estimators.random_forest import H2ORandomForestEstimator\n",
    "from random import shuffle\n",
    "from sklearn.metrics import precision_recall_fscore_support\n",
    "import analytics_functions\n",
    "#from pyprooff.perf import Togo\n",
    " \n",
    "h2o.__PROGRESS_BAR__=False\n",
    "h2o.no_progress()"
   ]
  },
  {
   "cell_type": "code",
   "execution_count": null,
   "metadata": {
    "collapsed": true
   },
   "outputs": [],
   "source": [
    "frtr = h2o.import_file('for_h2o_tr_both.csv')\n",
    " \n",
    "trcol = [x for x in df.columns if x not in ['case_id', 'target', 'fold']]\n",
    "#71 feats\n",
    " \n",
    "model = H2ORandomForestEstimator(ntrees=200, score_tree_interval=10, keep_cross_validation_predictions=True,\n",
    "                                  stopping_rounds=3,\n",
    "                                  stopping_tolerance=0.001,\n",
    "                                  mtries=25,\n",
    "                                  col_sample_rate_change_per_level=1.2,\n",
    "                                  sample_rate=0.62,\n",
    "                                  col_sample_rate_per_tree=0.2,\n",
    "                                  max_depth=10,\n",
    "                                  min_rows=15,\n",
    "                                  nbins=20,\n",
    "                                  nbins_cats=200,\n",
    "                                  min_split_improvement=1e-05,\n",
    "                                  balance_classes=True)\n",
    "model.train(x=trcol, y='target', training_frame=frtr, fold_column='fold', max_runtime_secs=300)\n",
    " \n",
    "preds = model.cross_validation_holdout_predictions()\n",
    "preds_pd = preds.as_data_frame()\n",
    "preds_list = list(preds_pd.predict)\n",
    "evaluation = analytics_functions.evaluate_model(dftr.target, preds_list, early_eval=0.25, train_mse=model.mse(train=True))\n",
    "  \n",
    "ncols = len(h2o_nonpw.columns)\n",
    "mt = int(ncols/3)\n",
    "hyp = {'mtries': [mt], # default; tried 25% less and more, did slightly worse\n",
    "          'col_sample_rate_change_per_level': [0.8, 1.0, 1.2],\n",
    "          'sample_rate': [.62],\n",
    "           'col_sample_rate_per_tree': [0.15, 0.2],\n",
    "           'max_depth': [4,6,8,10],\n",
    "           'min_rows': [15],\n",
    "           'nbins': [20], # 30 was same as 20\n",
    "           'nbins_cats': [200],\n",
    "           'min_split_improvement': [1e-05],\n",
    "           'random_split_points': [False], #[True, False],\n",
    "           'balance_classes': [True]\n",
    "          }\n",
    " \n",
    "from itertools import product\n",
    "conditions = []\n",
    "for coll in product(hyp['mtries'], hyp['col_sample_rate_change_per_level'],\n",
    "                    hyp['sample_rate'], hyp['col_sample_rate_per_tree'],\n",
    "                    hyp['max_depth'], hyp['min_rows'], hyp['nbins'],\n",
    "                    hyp['nbins_cats'],\n",
    "                    hyp['min_split_improvement'], hyp['random_split_points'], hyp['balance_classes']):\n",
    "    conditions.append(coll)\n",
    " \n",
    "results = []\n",
    "h2o_nonpw.columns\n",
    " \n",
    "warnings.filterwarnings(\"ignore\", module='sklearn')\n",
    "# togo = Togo(len(conditions), 500, 1, 2)\n",
    " \n",
    "trcol = [x for x in df.columns if x not in ['case_id', 'target', 'fold']]\n",
    " \n",
    "for i in range(len(conditions)):\n",
    "    print(i)\n",
    "    shuffle(conditions)\n",
    "    m1, c2, s3, c4, m5, m6, n7, n8, m9, r10, b11 = conditions[0]\n",
    "    conditions = conditions[1:]\n",
    "    for rep in range(3):\n",
    "        if True:\n",
    "            model = H2ORandomForestEstimator(ntrees=200, score_tree_interval=10, keep_cross_validation_predictions=True,\n",
    "                                        stopping_rounds=3, stopping_tolerance=0.001, mtries=m1, col_sample_rate_change_per_level=c2,\n",
    "                                            sample_rate=s3, col_sample_rate_per_tree=c4, max_depth=m5, min_rows=m6,\n",
    "                                            nbins=n7, nbins_cats=n8, min_split_improvement=m9,\n",
    "                                            random_split_points=r10, balance_classes=b11)\n",
    "            model.train(x=trcol, y='target', training_frame=frtr, fold_column='fold', max_runtime_secs=300)\n",
    "            preds = model.cross_validation_holdout_predictions()\n",
    "            preds = preds.as_data_frame()\n",
    "            preds = list(preds.predict)\n",
    "            d = evaluate_model(dftr.target, preds, early_eval=0.25, train_mse=model.mse(train=True))\n",
    "            for name, item in zip(['mtries', 'col_sample_rate_change_per_level',\n",
    "                                            'sample_rate', 'col_sample_rate_per_tree', 'max_depth', 'min_rows',\n",
    "                                            'nbins', 'nbins_cats', 'min_split_improvement',\n",
    "                                            'random_split_points', 'balance_classes'],\n",
    "                                    \"m1, c2, s3, c4, m5, m6, n7, n8, m9, r10, b11\".split(\", \")):\n",
    "                exec(\"d['{}'] = {}\".format(name, item))\n",
    "            d['num_trees'] =  model.scoring_history()['number_of_trees'].iloc[-1]\n",
    "            d['rep'] = rep\n",
    "            results.append(d)"
   ]
  }
 ],
 "metadata": {
  "kernelspec": {
   "display_name": "Python 3",
   "language": "python",
   "name": "python3"
  },
  "language_info": {
   "codemirror_mode": {
    "name": "ipython",
    "version": 3
   },
   "file_extension": ".py",
   "mimetype": "text/x-python",
   "name": "python",
   "nbconvert_exporter": "python",
   "pygments_lexer": "ipython3",
   "version": "3.5.4"
  }
 },
 "nbformat": 4,
 "nbformat_minor": 2
}
